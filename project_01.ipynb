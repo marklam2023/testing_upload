{
 "cells": [
  {
   "cell_type": "markdown",
   "id": "f64fd3e2-baa3-4aa7-85a8-a15e63dfcbad",
   "metadata": {},
   "source": [
    "## Name: Lam Kam Yuen\n",
    "## Date: 8/13/2024\n",
    "## Task: ASSET MANAGEMENT PRACTICE PROJECT 01 \n",
    "\n",
    "\n",
    "## Understanding of topics and tools\n",
    "\n",
    "For the first task of the project, I understand the meaning of MVP model, the method of using python to calculate return and risk. Also I also learn how to calculate the minimum variance and maximum Sharpe.\n",
    "However, for the second task, I used a little time to understand the rolling backtesting, especially on controlling the roll back period and out of sample testing. Actually I need to read the notes when doing the project.\n",
    "\n",
    "\n",
    "## Strengths and weakness:\t\n",
    "Strengths:\n",
    "\tI understanding how to use pandas and numpy library. \n",
    " Weakness:\n",
    "\tFor me, use object-oriented methods (Class) to write programs is my weakness.\n",
    "\n",
    "\n",
    "## Experiences:\n",
    "\tThe first task I have confidence to finish it. The second task, I need to rewrite it one time as the rolling back method I use doesn't seem to get a correct answer. \n"
   ]
  },
  {
   "cell_type": "markdown",
   "id": "d3619931-1ad2-4401-8459-72600b513ef9",
   "metadata": {
    "tags": []
   },
   "source": [
    "## import necessary library\n"
   ]
  },
  {
   "cell_type": "code",
   "execution_count": 1,
   "id": "aaba5e9f-9fd2-4144-ac99-8cd9d27f769d",
   "metadata": {
    "tags": []
   },
   "outputs": [],
   "source": [
    "import math\n",
    "import numpy as np\n",
    "import pandas as pd\n",
    "from pylab import plt\n",
    "from scipy.optimize import minimize\n",
    "plt.style.use('seaborn-v0_8')\n",
    "np.set_printoptions(suppress=True, precision=4)\n",
    "pd.options.display.float_format = '{:.5f}'.format\n",
    "#Create a FinancialData class:\n"
   ]
  },
  {
   "cell_type": "markdown",
   "id": "23310f59-27bf-44b5-a92c-139d6f43be5a",
   "metadata": {},
   "source": [
    "## Create a FinancialData class:\n",
    "    initial a class\n",
    "    1) download data from csv url\n",
    "    2) prepare the data for calcualte model\n",
    "    3) use log return \n",
    "    "
   ]
  },
  {
   "cell_type": "code",
   "execution_count": null,
   "id": "babda31b-6bed-42ec-b1d2-7b27970d5dbc",
   "metadata": {
    "tags": []
   },
   "outputs": [],
   "source": [
    "class FinancialData:\n",
    "    url = 'https://hilpisch.com/indices_eikon_eod_data.csv'\n",
    "    def __init__(self):\n",
    "        self.financialdata =None\n",
    "        self.returns = None\n",
    "        self.downloadData()\n",
    "        self.prepare_data()\n",
    "        self.no_assets = len(self.financialdata.columns)\n",
    "    def downloadData(self):\n",
    "        self.financialdata = pd.read_csv(self.url, index_col =0, parse_dates=True)\n",
    "    def prepare_data(self):\n",
    "        self.returns = np.log(self.financialdata /self.financialdata.shift(1)).dropna()\n",
    "        \n",
    "    "
   ]
  },
  {
   "cell_type": "markdown",
   "id": "ce387254-8350-40b3-b7e1-c65fe7d0af6e",
   "metadata": {
    "tags": []
   },
   "source": [
    "## MVP Class\n",
    "    init()\n",
    "    portfolio_return()\n",
    "    portfolio_variance()\n",
    "    portfolio_volatility()\n",
    "    portfolio_sharpe()\n",
    "    max_sharpe_portfolio()\n",
    "    min_volatility_portfolio()\n",
    "    _set_bounds_constraints()\n",
    "    _return_result()"
   ]
  },
  {
   "cell_type": "code",
   "execution_count": null,
   "id": "6d0d4cd1-69e6-4c75-a3a5-a21d24f100a5",
   "metadata": {
    "tags": []
   },
   "outputs": [],
   "source": [
    "class MVPmodel(FinancialData):\n",
    "    def __init__(self):\n",
    "        super().__init__()\n",
    "        self.weights = self.no_assets * [1/ self.no_assets]\n",
    "    def portfolio_return(self,weights,days=252):\n",
    "        return np.dot(self.returns.mean(),weights)*days\n",
    "    def portfolio_variance(self, weights,days =252):\n",
    "        return np.dot(weights, np.dot(self.returns.cov(), weights)) * days\n",
    "    def portfolio_volatility(self,weights,days=252):\n",
    "        return math.sqrt(self.portfolio_variance(weights,days))\n",
    "    def portfolio_sharpe(self,weights, days=252):\n",
    "        shape = (self.portfolio_return(weights,days) /\n",
    "                 self.portfolio_volatility(weights,days))\n",
    "        return shape\n",
    "    def _set_bounds_constraints(self, bnds, cons):\n",
    "        if bnds is None:\n",
    "            self.bnds = self.no_assets*[(0,1)]\n",
    "        else:\n",
    "            self.bnds = bnds\n",
    "        if cons is None:\n",
    "            self.cons = {'type': 'eq', 'fun': lambda weights: weights.sum() - 1}\n",
    "        else:\n",
    "            self.cons = cons\n",
    "    #optimization methods to\n",
    "    #derive the minimum variance portfolio as well as the maximum Sharpe\n",
    "    #portfolio.\n",
    "             \n",
    "    def max_sharpe_portfolio(self,bnds=None, cons=None):\n",
    "        self._set_bounds_constraints(bnds,cons)\n",
    "        sharpe_f = lambda weights: -self.portfolio_sharpe(weights)\n",
    "        opt = minimize(sharpe_f, self.weights,bounds=self.bnds,\n",
    "                       constraints = self.cons)\n",
    "        self.results =self._return_result(opt, 'Maximum Shape')\n",
    "        return self.results\n",
    "    def min_volatility_portfolio(self,bnds=None, cons=None):\n",
    "        self._set_bounds_constraints(bnds,cons)\n",
    "        opt = minimize(self.portfolio_volatility,self.weights,bounds=self.bnds,\n",
    "                       constraints = self.cons)\n",
    "        self.results =self._return_result(opt, 'Minimum Volatility')\n",
    "        return self.results\n",
    "    def _return_result(self,opt,kind):\n",
    "        ret = self.portfolio_return(opt['x'])\n",
    "        vol = self.portfolio_volatility(opt['x'])\n",
    "        sharpe = self.portfolio_sharpe(opt['x'])\n",
    "        weights= pd.DataFrame(opt['x'], index =self.financialdata.columns,columns=['weights',])\n",
    "        res ={'kind': kind, 'weights': weights.round(7), 'return' : ret, \n",
    "              'volatiltiy': vol, 'sharpe' : sharpe}\n",
    "        return res\n",
    "    #optimization methods to\n",
    "    #derive the minimum variance portfolio as well as the maximum Sharpe\n",
    "    #portfolio.\n",
    "    "
   ]
  },
  {
   "cell_type": "code",
   "execution_count": null,
   "id": "983b3a08-983f-4e25-bbb9-14bf1dd621bf",
   "metadata": {
    "tags": []
   },
   "outputs": [],
   "source": [
    "mvpmodel = MVPmodel()"
   ]
  },
  {
   "cell_type": "code",
   "execution_count": null,
   "id": "f3490025-4ad5-4df1-a913-e672d7915248",
   "metadata": {
    "tags": []
   },
   "outputs": [],
   "source": [
    "#mvpmodel.financialdata.columns"
   ]
  },
  {
   "cell_type": "code",
   "execution_count": null,
   "id": "73184630-5cf3-40c4-a654-5f63d3c6fa6c",
   "metadata": {
    "tags": []
   },
   "outputs": [],
   "source": [
    "mvpmodel.portfolio_return(mvpmodel.weights)"
   ]
  },
  {
   "cell_type": "code",
   "execution_count": null,
   "id": "dbb1734f-f1d0-42e8-93bf-80d7765d32f1",
   "metadata": {
    "tags": []
   },
   "outputs": [],
   "source": [
    "mvpmodel.portfolio_volatility(mvpmodel.weights)"
   ]
  },
  {
   "cell_type": "code",
   "execution_count": null,
   "id": "ac85dbbd-6281-4407-a015-fa78aaebce29",
   "metadata": {
    "tags": []
   },
   "outputs": [],
   "source": [
    "mvpmodel.portfolio_sharpe(mvpmodel.weights)"
   ]
  },
  {
   "cell_type": "code",
   "execution_count": null,
   "id": "265c7515-52ff-4ec9-beb2-915b1698b496",
   "metadata": {
    "tags": []
   },
   "outputs": [],
   "source": [
    "mvpmodel.min_volatility_portfolio()"
   ]
  },
  {
   "cell_type": "code",
   "execution_count": null,
   "id": "27e23490-dcbd-473c-82c7-8b12e833948d",
   "metadata": {
    "tags": []
   },
   "outputs": [],
   "source": [
    "mvpmodel.max_sharpe_portfolio()"
   ]
  },
  {
   "cell_type": "markdown",
   "id": "ad73c1da-a36a-4aca-b26c-bcda937b3dbf",
   "metadata": {},
   "source": [
    "## Class RollbackTesting\n",
    "    1) inherit MVPmodel\n",
    "    2) control lookback period\n",
    "    3) roll the date from start_date to end date\n",
    "    "
   ]
  },
  {
   "cell_type": "code",
   "execution_count": null,
   "id": "783bbc59-5dce-405d-94f6-368e4120f648",
   "metadata": {
    "tags": []
   },
   "outputs": [],
   "source": [
    "class RollbackTesting(MVPmodel):\n",
    "    def __init__(self,lookback_period):\n",
    "        super().__init__()\n",
    "        self.lookback_period = lookback_period\n",
    "    def backtest(self, type_of_test,start_date, end_date, rebalance_period ='1W'):\n",
    "        dates = pd.date_range(start=start_date, end=end_date, freq= rebalance_period)\n",
    "        portfolio_returns =[]\n",
    "        cal_looback = int(self.lookback_period / 5)\n",
    "        org_returns = self.returns\n",
    "        for i in range(cal_looback ,len(dates) -1):        \n",
    "            train_end = dates[i]\n",
    "            test_start = dates[i + 1]\n",
    "            #print(train_end)\n",
    "            test_end = dates[i + 2] if i + 2 < len(dates) else end_date\n",
    "            train_data = org_returns[:train_end][-self.lookback_period:]\n",
    "            test_data = org_returns[test_start:test_end]\n",
    "            #rint(f'{test_start}:{test_end}:{len(test_data)}')  \n",
    "            self.returns = train_data\n",
    "            if  type_of_test == 'Maximum Sharpe':\n",
    "                weights = self.max_sharpe_portfolio()['weights'].values.flatten()\n",
    "            elif type_of_test == 'Minimum Volatility':\n",
    "                weights = self.min_volatility_portfolio()['weights'].values.flatten()\n",
    "            if len(test_data) > 0 :\n",
    "                test_return = np.sum(weights * test_data.mean())\n",
    "                portfolio_returns.append(test_return)\n",
    "            #else:\n",
    "                #print(test_start)\n",
    "        performance_df = pd.DataFrame(portfolio_returns,  columns=['Portfolio Return'])\n",
    "        performance_df['Cumulative Return'] = (1 + performance_df['Portfolio Return']).cumprod() - 1 \n",
    "        self.returns = org_returns \n",
    "        return performance_df\n",
    "    \n",
    "    def annualized_return(self, performance_df):\n",
    "        \"\"\"\n",
    "        Calculate the annualized return of the portfolio.\n",
    "        :param performance_df: DataFrame of portfolio performance\n",
    "        :return: Annualized return\n",
    "        \"\"\"\n",
    "        total_return = performance_df['Cumulative Return'].iloc[-1]\n",
    "        num_years = len(performance_df) / 52  # Assuming weekly returns\n",
    "        return (1 + total_return) ** (1 / num_years) - 1\n",
    "    \n",
    "    \n",
    "    def plot_backtest(self, backtest_results):\n",
    "        \"\"\"\n",
    "        Plot the results of the backtest.\n",
    "        \n",
    "        Parameters:\n",
    "        backtest_results (pandas.DataFrame): Results of the backtest.\n",
    "        \"\"\"\n",
    "        plt.figure(figsize=(12, 6))\n",
    "        backtest_results['Cumulative Return'].plot()\n",
    "        plt.title('Backtest Portfolio Value')\n",
    "        plt.xlabel('Date')\n",
    "        plt.ylabel('Portfolio Value')\n",
    "        plt.grid()\n",
    "        plt.show()"
   ]
  },
  {
   "cell_type": "code",
   "execution_count": null,
   "id": "536f7d17-cd9b-4d62-ba2e-2e90a030e3d6",
   "metadata": {
    "tags": []
   },
   "outputs": [],
   "source": [
    "rollbacktest = RollbackTesting(504)"
   ]
  },
  {
   "cell_type": "code",
   "execution_count": null,
   "id": "3f388646-b8ba-46bc-a2ec-275956763b2a",
   "metadata": {
    "tags": []
   },
   "outputs": [],
   "source": [
    "rollbacktest.returns.info()"
   ]
  },
  {
   "cell_type": "code",
   "execution_count": null,
   "id": "46525332-7eec-4b73-990c-fe7136ecbefb",
   "metadata": {
    "tags": []
   },
   "outputs": [],
   "source": [
    "\n",
    "type_of_test = 'Maximum Sharpe'\n",
    "performance_df = rollbacktest.backtest(type_of_test, start_date='2016-01-01', end_date='2020-01-01')\n",
    "\n",
    "# Calculate the annualized return\n",
    "annualized_return = rollbacktest.annualized_return(performance_df)\n",
    "\n",
    "print(f'Annualized Return of {type_of_test}:{annualized_return*100:.2f}%', )\n",
    "#print(performance_df)\n",
    "\n",
    "type_of_test = 'Minimum Volatility'\n",
    "performance_df = rollbacktest.backtest(type_of_test, start_date='2016-01-01', end_date='2020-01-01')\n",
    "\n",
    "# Calculate the annualized return\n",
    "annualized_return = rollbacktest.annualized_return(performance_df)\n",
    "\n",
    "print(f'Annualized Return of {type_of_test}:{annualized_return*100:.2f}%', )\n",
    "#print(performance_df)\n"
   ]
  },
  {
   "cell_type": "code",
   "execution_count": null,
   "id": "ec989854-2551-435c-bdc4-abf273079453",
   "metadata": {
    "tags": []
   },
   "outputs": [],
   "source": [
    "rollbacktest.plot_backtest(performance_df)"
   ]
  }
 ],
 "metadata": {
  "kernelspec": {
   "display_name": "Python 3 (ipykernel)",
   "language": "python",
   "name": "python3"
  },
  "language_info": {
   "codemirror_mode": {
    "name": "ipython",
    "version": 3
   },
   "file_extension": ".py",
   "mimetype": "text/x-python",
   "name": "python",
   "nbconvert_exporter": "python",
   "pygments_lexer": "ipython3",
   "version": "3.11.4"
  }
 },
 "nbformat": 4,
 "nbformat_minor": 5
}
