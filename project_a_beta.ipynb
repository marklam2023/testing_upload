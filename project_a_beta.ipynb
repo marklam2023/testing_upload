{
 "cells": [
  {
   "cell_type": "code",
   "execution_count": 202,
   "id": "e668fd43-056e-4bba-a603-9074a8c45c15",
   "metadata": {
    "tags": []
   },
   "outputs": [],
   "source": [
    "#import necessary library\n",
    "import math\n",
    "import numpy as np\n",
    "import pandas as pd\n",
    "from pylab import plt\n",
    "from scipy.optimize import minimize\n",
    "plt.style.use('seaborn-v0_8')\n",
    "np.set_printoptions(suppress=True, precision=4)\n",
    "pd.options.display.float_format = '{:.5f}'.format\n",
    "#Create a FinancialData class:\n"
   ]
  },
  {
   "cell_type": "markdown",
   "id": "23310f59-27bf-44b5-a92c-139d6f43be5a",
   "metadata": {},
   "source": [
    "#Create a FinancialData class:\n",
    "    initial a class\n",
    "    1) download data from csv url\n",
    "    2) prepare the data for calcualte model\n",
    "    "
   ]
  },
  {
   "cell_type": "code",
   "execution_count": 203,
   "id": "babda31b-6bed-42ec-b1d2-7b27970d5dbc",
   "metadata": {
    "tags": []
   },
   "outputs": [],
   "source": [
    "class FinancialData:\n",
    "    url = 'https://hilpisch.com/indices_eikon_eod_data.csv'\n",
    "    def __init__(self):\n",
    "        self.financialdata =None\n",
    "        self.returns = None\n",
    "        self.downloadData()\n",
    "        self.prepare_data()\n",
    "        self.no_assets = len(self.financialdata.columns)\n",
    "    def downloadData(self):\n",
    "        self.financialdata = pd.read_csv(self.url, index_col =0, parse_dates=True)\n",
    "    def prepare_data(self):\n",
    "        self.returns = np.log(self.financialdata /self.financialdata.shift(1)).dropna()\n",
    "        \n",
    "    "
   ]
  },
  {
   "cell_type": "code",
   "execution_count": 204,
   "id": "d394a7bd-457f-4aa8-9427-4ddcd87e9991",
   "metadata": {
    "tags": []
   },
   "outputs": [],
   "source": [
    "fd = FinancialData()"
   ]
  },
  {
   "cell_type": "code",
   "execution_count": 205,
   "id": "aec40ff6-c5af-40c1-bf92-b93c7633ae12",
   "metadata": {
    "tags": []
   },
   "outputs": [
    {
     "data": {
      "text/plain": [
       "8"
      ]
     },
     "execution_count": 205,
     "metadata": {},
     "output_type": "execute_result"
    }
   ],
   "source": [
    "fd.no_assets"
   ]
  },
  {
   "cell_type": "markdown",
   "id": "ce387254-8350-40b3-b7e1-c65fe7d0af6e",
   "metadata": {
    "tags": []
   },
   "source": [
    "## MVP Class\n",
    "    init()\n",
    "    portfolio_return()\n",
    "    portfolio_variance()\n",
    "    portfolio_volatility()\n",
    "    portfolio_sharpe()\n",
    "    "
   ]
  },
  {
   "cell_type": "code",
   "execution_count": 206,
   "id": "6d0d4cd1-69e6-4c75-a3a5-a21d24f100a5",
   "metadata": {
    "tags": []
   },
   "outputs": [],
   "source": [
    "class MVPmodel(FinancialData):\n",
    "    def __init__(self):\n",
    "        super().__init__()\n",
    "        self.weights = self.no_assets * [1/ self.no_assets]\n",
    "    def portfolio_return(self,weights,days=252):\n",
    "        return np.dot(self.returns.mean(),weights)*days\n",
    "    def portfolio_variance(self, weights,days =252):\n",
    "        return np.dot(weights, np.dot(self.returns.cov(), weights)) * days\n",
    "    def portfolio_volatility(self,weights,days=252):\n",
    "        return math.sqrt(self.portfolio_variance(weights,days))\n",
    "    def portfolio_sharpe(self,weights, days=252):\n",
    "        shape = (self.portfolio_return(weights,days) /\n",
    "                 self.portfolio_volatility(weights,days))\n",
    "        return shape\n",
    "    def _set_bounds_constraints(self, bnds, cons):\n",
    "        if bnds is None:\n",
    "            self.bnds = self.no_assets*[(0,1)]\n",
    "        else:\n",
    "            self.bnds = bnds\n",
    "        if cons is None:\n",
    "            self.cons = {'type': 'eq', 'fun': lambda weights: weights.sum() - 1}\n",
    "        else:\n",
    "            self.cons = cons\n",
    "    def max_sharpe_portfolio(self,bnds=None, cons=None):\n",
    "        self._set_bounds_constraints(bnds,cons)\n",
    "        sharpe_f = lambda weights: -self.portfolio_sharpe(weights)\n",
    "        opt = minimize(sharpe_f, self.weights,bounds=self.bnds,\n",
    "                       constraints = self.cons)\n",
    "        self.results =self._return_result(opt, 'Maximum Shape')\n",
    "        return self.results\n",
    "    def _return_result(self,opt,kind):\n",
    "        ret = self.portfolio_return(opt['x'])\n",
    "        vol = self.portfolio_volatility(opt['x'])\n",
    "        sharpe = self.portfolio_sharpe(opt['x'])\n",
    "        weights= pd.DataFrame(opt['x'], index =self.financialdata.columns,columns=['weights',])\n",
    "        res ={'kind': kind, 'weights': weights.round(7), 'return' : ret, \n",
    "              'volatiltiy': vol, 'sharpe' : sharpe}\n",
    "        return res\n",
    "    #optimization methods to\n",
    "    #derive the minimum variance portfolio as well as the maximum Sharpe\n",
    "    #portfolio.\n",
    "    "
   ]
  },
  {
   "cell_type": "code",
   "execution_count": 207,
   "id": "983b3a08-983f-4e25-bbb9-14bf1dd621bf",
   "metadata": {
    "tags": []
   },
   "outputs": [],
   "source": [
    "mvpmodel = MVPmodel()"
   ]
  },
  {
   "cell_type": "code",
   "execution_count": 208,
   "id": "f3490025-4ad5-4df1-a913-e672d7915248",
   "metadata": {
    "tags": []
   },
   "outputs": [
    {
     "data": {
      "text/plain": [
       "Index(['.FCHI', '.FTSE', '.GDAXI', '.HSI', '.NDX', '.NSEI', '.SPX', '.SSEC'], dtype='object')"
      ]
     },
     "execution_count": 208,
     "metadata": {},
     "output_type": "execute_result"
    }
   ],
   "source": [
    "mvpmodel.financialdata.columns"
   ]
  },
  {
   "cell_type": "code",
   "execution_count": 209,
   "id": "73184630-5cf3-40c4-a654-5f63d3c6fa6c",
   "metadata": {
    "tags": []
   },
   "outputs": [
    {
     "data": {
      "text/plain": [
       "0.10398621259009806"
      ]
     },
     "execution_count": 209,
     "metadata": {},
     "output_type": "execute_result"
    }
   ],
   "source": [
    "mvpmodel.portfolio_return(mvpmodel.weights)"
   ]
  },
  {
   "cell_type": "code",
   "execution_count": 210,
   "id": "dbb1734f-f1d0-42e8-93bf-80d7765d32f1",
   "metadata": {
    "tags": []
   },
   "outputs": [
    {
     "data": {
      "text/plain": [
       "0.14705487415271787"
      ]
     },
     "execution_count": 210,
     "metadata": {},
     "output_type": "execute_result"
    }
   ],
   "source": [
    "mvpmodel.portfolio_volatility(mvpmodel.weights)"
   ]
  },
  {
   "cell_type": "code",
   "execution_count": 211,
   "id": "ac85dbbd-6281-4407-a015-fa78aaebce29",
   "metadata": {
    "tags": []
   },
   "outputs": [
    {
     "data": {
      "text/plain": [
       "0.7071252359993685"
      ]
     },
     "execution_count": 211,
     "metadata": {},
     "output_type": "execute_result"
    }
   ],
   "source": [
    "mvpmodel.portfolio_sharpe(mvpmodel.weights)"
   ]
  },
  {
   "cell_type": "code",
   "execution_count": 212,
   "id": "265c7515-52ff-4ec9-beb2-915b1698b496",
   "metadata": {
    "tags": []
   },
   "outputs": [
    {
     "data": {
      "text/plain": [
       "{'kind': 'Maximum Shape',\n",
       " 'weights':         weights\n",
       " .FCHI   0.00000\n",
       " .FTSE   0.00000\n",
       " .GDAXI  0.00000\n",
       " .HSI    0.00000\n",
       " .NDX    0.47421\n",
       " .NSEI   0.52579\n",
       " .SPX    0.00000\n",
       " .SSEC   0.00000,\n",
       " 'return': 0.18372643865394744,\n",
       " 'volatiltiy': 0.1632772763287996,\n",
       " 'sharpe': 1.1252419368140876}"
      ]
     },
     "execution_count": 212,
     "metadata": {},
     "output_type": "execute_result"
    }
   ],
   "source": [
    "mvpmodel.max_sharpe_portfolio()"
   ]
  },
  {
   "cell_type": "code",
   "execution_count": 408,
   "id": "783bbc59-5dce-405d-94f6-368e4120f648",
   "metadata": {
    "tags": []
   },
   "outputs": [],
   "source": [
    "class RollbackTesting(MVPmodel):\n",
    "    def __init__(self,lookback_period):\n",
    "        super().__init__()\n",
    "        self.lookback_period = lookback_period\n",
    "    def backtest(self, start_date, end_date, rebalance_period ='1W'):\n",
    "        dates = pd.date_range(start=start_date, end=end_date, freq= rebalance_period)\n",
    "        portfolio_returns =[]\n",
    "        cal_looback = int(self.lookback_period / 5)\n",
    "        org_returns = self.returns\n",
    "        for i in range(cal_looback ,len(dates) -1):        \n",
    "            train_end = dates[i]\n",
    "            test_start = dates[i + 1]\n",
    "            #print(train_end)\n",
    "            test_end = dates[i + 2] if i + 2 < len(dates) else end_date\n",
    "            train_data = org_returns[:train_end][-self.lookback_period:]\n",
    "            test_data = org_returns[test_start:test_end]\n",
    "            #rint(f'{test_start}:{test_end}:{len(test_data)}')  \n",
    "            self.returns = train_data\n",
    "            weights = self.max_sharpe_portfolio()['weights'].values.flatten()\n",
    "            if len(test_data) > 0 :\n",
    "                test_return = np.sum(weights * test_data.mean())\n",
    "                portfolio_returns.append(test_return)\n",
    "            else:\n",
    "                print(test_start)\n",
    "        performance_df = pd.DataFrame(portfolio_returns,  columns=['Portfolio Return'])\n",
    "        performance_df['Cumulative Return'] = (1 + performance_df['Portfolio Return']).cumprod() - 1 \n",
    "        return performance_df\n",
    "    \n",
    "    def annualized_return(self, performance_df):\n",
    "        \"\"\"\n",
    "        Calculate the annualized return of the portfolio.\n",
    "        :param performance_df: DataFrame of portfolio performance\n",
    "        :return: Annualized return\n",
    "        \"\"\"\n",
    "        total_return = performance_df['Cumulative Return'].iloc[-1]\n",
    "        num_years = len(performance_df) / 52  # Assuming weekly returns\n",
    "        return (1 + total_return) ** (1 / num_years) - 1\n",
    "    \n",
    "    \n",
    "    def plot_backtest(self, backtest_results):\n",
    "        \"\"\"\n",
    "        Plot the results of the backtest.\n",
    "        \n",
    "        Parameters:\n",
    "        backtest_results (pandas.DataFrame): Results of the backtest.\n",
    "        \"\"\"\n",
    "        plt.figure(figsize=(12, 6))\n",
    "        backtest_results['Cumulative Return'].plot()\n",
    "        plt.title('Backtest Portfolio Value')\n",
    "        plt.xlabel('Date')\n",
    "        plt.ylabel('Portfolio Value')\n",
    "        plt.grid()\n",
    "        plt.show()"
   ]
  },
  {
   "cell_type": "code",
   "execution_count": null,
   "id": "aefe9a25-3e37-40fe-ae8d-f612bb76ed7d",
   "metadata": {},
   "outputs": [],
   "source": []
  },
  {
   "cell_type": "code",
   "execution_count": 409,
   "id": "536f7d17-cd9b-4d62-ba2e-2e90a030e3d6",
   "metadata": {
    "tags": []
   },
   "outputs": [],
   "source": [
    "rollbacktest = RollbackTesting(504)"
   ]
  },
  {
   "cell_type": "code",
   "execution_count": 410,
   "id": "3f388646-b8ba-46bc-a2ec-275956763b2a",
   "metadata": {
    "tags": []
   },
   "outputs": [
    {
     "name": "stdout",
     "output_type": "stream",
     "text": [
      "<class 'pandas.core.frame.DataFrame'>\n",
      "DatetimeIndex: 958 entries, 2016-01-05 to 2020-12-30\n",
      "Data columns (total 8 columns):\n",
      " #   Column  Non-Null Count  Dtype  \n",
      "---  ------  --------------  -----  \n",
      " 0   .FCHI   958 non-null    float64\n",
      " 1   .FTSE   958 non-null    float64\n",
      " 2   .GDAXI  958 non-null    float64\n",
      " 3   .HSI    958 non-null    float64\n",
      " 4   .NDX    958 non-null    float64\n",
      " 5   .NSEI   958 non-null    float64\n",
      " 6   .SPX    958 non-null    float64\n",
      " 7   .SSEC   958 non-null    float64\n",
      "dtypes: float64(8)\n",
      "memory usage: 67.4 KB\n"
     ]
    }
   ],
   "source": [
    "rollbacktest.returns.info()"
   ]
  },
  {
   "cell_type": "code",
   "execution_count": 411,
   "id": "46525332-7eec-4b73-990c-fe7136ecbefb",
   "metadata": {
    "tags": []
   },
   "outputs": [
    {
     "name": "stdout",
     "output_type": "stream",
     "text": [
      "2018-09-30 00:00:00\n",
      "2019-02-03 00:00:00\n",
      "2019-04-28 00:00:00\n",
      "Annualized Return: 0.047767695184654846\n",
      "     Portfolio Return  Cumulative Return\n",
      "0             0.00176            0.00176\n",
      "1             0.00160            0.00336\n",
      "2            -0.00024            0.00312\n",
      "3             0.00556            0.00870\n",
      "4             0.00307            0.01180\n",
      "..                ...                ...\n",
      "100          -0.00160            0.09485\n",
      "101           0.00239            0.09747\n",
      "102           0.00330            0.10110\n",
      "103          -0.00007            0.10102\n",
      "104          -0.00201            0.09880\n",
      "\n",
      "[105 rows x 2 columns]\n"
     ]
    }
   ],
   "source": [
    "performance_df = rollbacktest.backtest(start_date='2016-01-01', end_date='2020-01-01')\n",
    "\n",
    "# Calculate the annualized return\n",
    "annualized_return = rollbacktest.annualized_return(performance_df)\n",
    "\n",
    "print(\"Annualized Return:\", annualized_return)\n",
    "print(performance_df)"
   ]
  },
  {
   "cell_type": "code",
   "execution_count": 412,
   "id": "ec989854-2551-435c-bdc4-abf273079453",
   "metadata": {
    "tags": []
   },
   "outputs": [
    {
     "data": {
      "image/png": "[encoded data removed]",
      "text/plain": [
       "<Figure size 1200x600 with 1 Axes>"
      ]
     },
     "metadata": {},
     "output_type": "display_data"
    }
   ],
   "source": [
    "rollbacktest.plot_backtest(performance_df)"
   ]
  },
  {
   "cell_type": "code",
   "execution_count": null,
   "id": "b7c374d1-20f0-43e2-8608-e2ad8a54dff8",
   "metadata": {},
   "outputs": [],
   "source": [
    "  \n",
    "        for i in range(len(dates) -2):\n",
    "            train_end = dates[i]\n",
    "            test_start = dates[i+1]\n",
    "            test_end = dates[ i + 2] if i + 2 < len(dates) else end_date\n",
    "            #print(train_end)\n",
    "            self.returns = org_returns.loc[:train_end][-self.lookback_period:]\n",
    "            print(self.max_sharpe_portfolio())\n",
    "            #test_data = self.returns[test_start:test_end]"
   ]
  },
  {
   "cell_type": "code",
   "execution_count": 252,
   "id": "2de68cd7-0da6-4d38-a622-d5544017f205",
   "metadata": {
    "tags": []
   },
   "outputs": [
    {
     "name": "stdout",
     "output_type": "stream",
     "text": [
      "              .FCHI    .FTSE   .GDAXI     .HSI     .NDX    .NSEI     .SPX  \\\n",
      "Date                                                                        \n",
      "2016-01-05  0.00335  0.00716  0.00259 -0.00651 -0.00305 -0.00085  0.00201   \n",
      "2016-01-06 -0.01268 -0.01046 -0.00936 -0.00986 -0.00900 -0.00562 -0.01320   \n",
      "2016-01-07 -0.01731 -0.01984 -0.02319 -0.03135 -0.03161 -0.02256 -0.02399   \n",
      "2016-01-08 -0.01598 -0.00702 -0.01316  0.00590 -0.00815  0.00436 -0.01090   \n",
      "2016-01-11 -0.00486 -0.00689 -0.00247 -0.02802  0.00298 -0.00495  0.00085   \n",
      "...             ...      ...      ...      ...      ...      ...      ...   \n",
      "2017-04-25  0.00171  0.00151  0.00097  0.01302  0.00726  0.00957  0.00607   \n",
      "2017-04-26  0.00189  0.00180  0.00046  0.00500 -0.00128  0.00485 -0.00049   \n",
      "2017-04-27 -0.00306 -0.00710 -0.00233  0.00487  0.00543 -0.00104  0.00055   \n",
      "2017-04-28 -0.00083 -0.00460 -0.00046 -0.00338  0.00220 -0.00409 -0.00191   \n",
      "2017-05-02  0.00697  0.00638  0.00560  0.00329  0.01078  0.00105  0.00292   \n",
      "\n",
      "              .SSEC  \n",
      "Date                 \n",
      "2016-01-05 -0.00260  \n",
      "2016-01-06  0.02230  \n",
      "2016-01-07 -0.07305  \n",
      "2016-01-08  0.01946  \n",
      "2016-01-11 -0.05473  \n",
      "...             ...  \n",
      "2017-04-25  0.00161  \n",
      "2017-04-26  0.00200  \n",
      "2017-04-27  0.00360  \n",
      "2017-04-28  0.00078  \n",
      "2017-05-02 -0.00348  \n",
      "\n",
      "[252 rows x 8 columns]\n"
     ]
    }
   ],
   "source": [
    "rollbacktest.backtest(start_date='2016-01-01', end_date='2023-01-01')"
   ]
  },
  {
   "cell_type": "code",
   "execution_count": 233,
   "id": "3c619489-5f87-488b-9895-0e79e8bf877a",
   "metadata": {
    "tags": []
   },
   "outputs": [],
   "source": [
    "start_date = '2020-01-01'\n",
    "end_date = '2023-01-01'\n",
    "rebalance_period ='1W'\n",
    "dates = pd.date_range(start=start_date, end=end_date, freq= rebalance_period)"
   ]
  },
  {
   "cell_type": "code",
   "execution_count": 151,
   "id": "69518906-c5ce-4db5-a35f-977b6af49a24",
   "metadata": {
    "tags": []
   },
   "outputs": [
    {
     "name": "stdout",
     "output_type": "stream",
     "text": [
      "2020-01-05 00:00:00\n",
      "2020-01-12 00:00:00\n",
      "2020-01-19 00:00:00\n",
      "2020-01-26 00:00:00\n",
      "2020-02-02 00:00:00\n",
      "2020-02-09 00:00:00\n",
      "2020-02-16 00:00:00\n",
      "2020-02-23 00:00:00\n",
      "2020-03-01 00:00:00\n",
      "2020-03-08 00:00:00\n",
      "2020-03-15 00:00:00\n",
      "2020-03-22 00:00:00\n",
      "2020-03-29 00:00:00\n",
      "2020-04-05 00:00:00\n",
      "2020-04-12 00:00:00\n",
      "2020-04-19 00:00:00\n",
      "2020-04-26 00:00:00\n",
      "2020-05-03 00:00:00\n",
      "2020-05-10 00:00:00\n",
      "2020-05-17 00:00:00\n",
      "2020-05-24 00:00:00\n",
      "2020-05-31 00:00:00\n",
      "2020-06-07 00:00:00\n",
      "2020-06-14 00:00:00\n",
      "2020-06-21 00:00:00\n",
      "2020-06-28 00:00:00\n",
      "2020-07-05 00:00:00\n",
      "2020-07-12 00:00:00\n",
      "2020-07-19 00:00:00\n",
      "2020-07-26 00:00:00\n",
      "2020-08-02 00:00:00\n",
      "2020-08-09 00:00:00\n",
      "2020-08-16 00:00:00\n",
      "2020-08-23 00:00:00\n",
      "2020-08-30 00:00:00\n",
      "2020-09-06 00:00:00\n",
      "2020-09-13 00:00:00\n",
      "2020-09-20 00:00:00\n",
      "2020-09-27 00:00:00\n",
      "2020-10-04 00:00:00\n",
      "2020-10-11 00:00:00\n",
      "2020-10-18 00:00:00\n",
      "2020-10-25 00:00:00\n",
      "2020-11-01 00:00:00\n",
      "2020-11-08 00:00:00\n",
      "2020-11-15 00:00:00\n",
      "2020-11-22 00:00:00\n",
      "2020-11-29 00:00:00\n",
      "2020-12-06 00:00:00\n",
      "2020-12-13 00:00:00\n",
      "2020-12-20 00:00:00\n",
      "2020-12-27 00:00:00\n",
      "2021-01-03 00:00:00\n",
      "2021-01-10 00:00:00\n",
      "2021-01-17 00:00:00\n",
      "2021-01-24 00:00:00\n",
      "2021-01-31 00:00:00\n",
      "2021-02-07 00:00:00\n",
      "2021-02-14 00:00:00\n",
      "2021-02-21 00:00:00\n",
      "2021-02-28 00:00:00\n",
      "2021-03-07 00:00:00\n",
      "2021-03-14 00:00:00\n",
      "2021-03-21 00:00:00\n",
      "2021-03-28 00:00:00\n",
      "2021-04-04 00:00:00\n",
      "2021-04-11 00:00:00\n",
      "2021-04-18 00:00:00\n",
      "2021-04-25 00:00:00\n",
      "2021-05-02 00:00:00\n",
      "2021-05-09 00:00:00\n",
      "2021-05-16 00:00:00\n",
      "2021-05-23 00:00:00\n",
      "2021-05-30 00:00:00\n",
      "2021-06-06 00:00:00\n",
      "2021-06-13 00:00:00\n",
      "2021-06-20 00:00:00\n",
      "2021-06-27 00:00:00\n",
      "2021-07-04 00:00:00\n",
      "2021-07-11 00:00:00\n",
      "2021-07-18 00:00:00\n",
      "2021-07-25 00:00:00\n",
      "2021-08-01 00:00:00\n",
      "2021-08-08 00:00:00\n",
      "2021-08-15 00:00:00\n",
      "2021-08-22 00:00:00\n",
      "2021-08-29 00:00:00\n",
      "2021-09-05 00:00:00\n",
      "2021-09-12 00:00:00\n",
      "2021-09-19 00:00:00\n",
      "2021-09-26 00:00:00\n",
      "2021-10-03 00:00:00\n",
      "2021-10-10 00:00:00\n",
      "2021-10-17 00:00:00\n",
      "2021-10-24 00:00:00\n",
      "2021-10-31 00:00:00\n",
      "2021-11-07 00:00:00\n",
      "2021-11-14 00:00:00\n",
      "2021-11-21 00:00:00\n",
      "2021-11-28 00:00:00\n",
      "2021-12-05 00:00:00\n",
      "2021-12-12 00:00:00\n",
      "2021-12-19 00:00:00\n",
      "2021-12-26 00:00:00\n",
      "2022-01-02 00:00:00\n",
      "2022-01-09 00:00:00\n",
      "2022-01-16 00:00:00\n",
      "2022-01-23 00:00:00\n",
      "2022-01-30 00:00:00\n",
      "2022-02-06 00:00:00\n",
      "2022-02-13 00:00:00\n",
      "2022-02-20 00:00:00\n",
      "2022-02-27 00:00:00\n",
      "2022-03-06 00:00:00\n",
      "2022-03-13 00:00:00\n",
      "2022-03-20 00:00:00\n",
      "2022-03-27 00:00:00\n",
      "2022-04-03 00:00:00\n",
      "2022-04-10 00:00:00\n",
      "2022-04-17 00:00:00\n",
      "2022-04-24 00:00:00\n",
      "2022-05-01 00:00:00\n",
      "2022-05-08 00:00:00\n",
      "2022-05-15 00:00:00\n",
      "2022-05-22 00:00:00\n",
      "2022-05-29 00:00:00\n",
      "2022-06-05 00:00:00\n",
      "2022-06-12 00:00:00\n",
      "2022-06-19 00:00:00\n",
      "2022-06-26 00:00:00\n",
      "2022-07-03 00:00:00\n",
      "2022-07-10 00:00:00\n",
      "2022-07-17 00:00:00\n",
      "2022-07-24 00:00:00\n",
      "2022-07-31 00:00:00\n",
      "2022-08-07 00:00:00\n",
      "2022-08-14 00:00:00\n",
      "2022-08-21 00:00:00\n",
      "2022-08-28 00:00:00\n",
      "2022-09-04 00:00:00\n",
      "2022-09-11 00:00:00\n",
      "2022-09-18 00:00:00\n",
      "2022-09-25 00:00:00\n",
      "2022-10-02 00:00:00\n",
      "2022-10-09 00:00:00\n",
      "2022-10-16 00:00:00\n",
      "2022-10-23 00:00:00\n",
      "2022-10-30 00:00:00\n",
      "2022-11-06 00:00:00\n",
      "2022-11-13 00:00:00\n",
      "2022-11-20 00:00:00\n",
      "2022-11-27 00:00:00\n",
      "2022-12-04 00:00:00\n",
      "2022-12-11 00:00:00\n",
      "2022-12-18 00:00:00\n"
     ]
    }
   ],
   "source": [
    "for i in range(len(dates) -2):\n",
    "            train_end = dates[i]\n",
    "            test_start = dates[i+1]\n",
    "            print(train_end)"
   ]
  },
  {
   "cell_type": "code",
   "execution_count": 152,
   "id": "99b3b0b7-114a-4c40-8fc1-5a5cbd68e91c",
   "metadata": {
    "tags": []
   },
   "outputs": [
    {
     "ename": "TypeError",
     "evalue": "'<' not supported between instances of 'str' and 'Timestamp'",
     "output_type": "error",
     "traceback": [
      "\u001b[1;31m---------------------------------------------------------------------------\u001b[0m",
      "\u001b[1;31mKeyError\u001b[0m                                  Traceback (most recent call last)",
      "File \u001b[1;32m~\\AppData\\Local\\anaconda3\\Lib\\site-packages\\pandas\\core\\indexes\\base.py:3802\u001b[0m, in \u001b[0;36mIndex.get_loc\u001b[1;34m(self, key, method, tolerance)\u001b[0m\n\u001b[0;32m   3801\u001b[0m \u001b[38;5;28;01mtry\u001b[39;00m:\n\u001b[1;32m-> 3802\u001b[0m     \u001b[38;5;28;01mreturn\u001b[39;00m \u001b[38;5;28mself\u001b[39m\u001b[38;5;241m.\u001b[39m_engine\u001b[38;5;241m.\u001b[39mget_loc(casted_key)\n\u001b[0;32m   3803\u001b[0m \u001b[38;5;28;01mexcept\u001b[39;00m \u001b[38;5;167;01mKeyError\u001b[39;00m \u001b[38;5;28;01mas\u001b[39;00m err:\n",
      "File \u001b[1;32m~\\AppData\\Local\\anaconda3\\Lib\\site-packages\\pandas\\_libs\\index.pyx:138\u001b[0m, in \u001b[0;36mpandas._libs.index.IndexEngine.get_loc\u001b[1;34m()\u001b[0m\n",
      "File \u001b[1;32m~\\AppData\\Local\\anaconda3\\Lib\\site-packages\\pandas\\_libs\\index.pyx:165\u001b[0m, in \u001b[0;36mpandas._libs.index.IndexEngine.get_loc\u001b[1;34m()\u001b[0m\n",
      "File \u001b[1;32mpandas\\_libs\\hashtable_class_helper.pxi:5745\u001b[0m, in \u001b[0;36mpandas._libs.hashtable.PyObjectHashTable.get_item\u001b[1;34m()\u001b[0m\n",
      "File \u001b[1;32mpandas\\_libs\\hashtable_class_helper.pxi:5753\u001b[0m, in \u001b[0;36mpandas._libs.hashtable.PyObjectHashTable.get_item\u001b[1;34m()\u001b[0m\n",
      "\u001b[1;31mKeyError\u001b[0m: Timestamp('2016-01-03 00:00:00', freq='W-SUN')",
      "\nThe above exception was the direct cause of the following exception:\n",
      "\u001b[1;31mKeyError\u001b[0m                                  Traceback (most recent call last)",
      "File \u001b[1;32m~\\AppData\\Local\\anaconda3\\Lib\\site-packages\\pandas\\core\\indexes\\base.py:6680\u001b[0m, in \u001b[0;36mIndex.get_slice_bound\u001b[1;34m(self, label, side, kind)\u001b[0m\n\u001b[0;32m   6679\u001b[0m \u001b[38;5;28;01mtry\u001b[39;00m:\n\u001b[1;32m-> 6680\u001b[0m     slc \u001b[38;5;241m=\u001b[39m \u001b[38;5;28mself\u001b[39m\u001b[38;5;241m.\u001b[39mget_loc(label)\n\u001b[0;32m   6681\u001b[0m \u001b[38;5;28;01mexcept\u001b[39;00m \u001b[38;5;167;01mKeyError\u001b[39;00m \u001b[38;5;28;01mas\u001b[39;00m err:\n",
      "File \u001b[1;32m~\\AppData\\Local\\anaconda3\\Lib\\site-packages\\pandas\\core\\indexes\\base.py:3804\u001b[0m, in \u001b[0;36mIndex.get_loc\u001b[1;34m(self, key, method, tolerance)\u001b[0m\n\u001b[0;32m   3803\u001b[0m \u001b[38;5;28;01mexcept\u001b[39;00m \u001b[38;5;167;01mKeyError\u001b[39;00m \u001b[38;5;28;01mas\u001b[39;00m err:\n\u001b[1;32m-> 3804\u001b[0m     \u001b[38;5;28;01mraise\u001b[39;00m \u001b[38;5;167;01mKeyError\u001b[39;00m(key) \u001b[38;5;28;01mfrom\u001b[39;00m \u001b[38;5;21;01merr\u001b[39;00m\n\u001b[0;32m   3805\u001b[0m \u001b[38;5;28;01mexcept\u001b[39;00m \u001b[38;5;167;01mTypeError\u001b[39;00m:\n\u001b[0;32m   3806\u001b[0m     \u001b[38;5;66;03m# If we have a listlike key, _check_indexing_error will raise\u001b[39;00m\n\u001b[0;32m   3807\u001b[0m     \u001b[38;5;66;03m#  InvalidIndexError. Otherwise we fall through and re-raise\u001b[39;00m\n\u001b[0;32m   3808\u001b[0m     \u001b[38;5;66;03m#  the TypeError.\u001b[39;00m\n",
      "\u001b[1;31mKeyError\u001b[0m: Timestamp('2016-01-03 00:00:00', freq='W-SUN')",
      "\nDuring handling of the above exception, another exception occurred:\n",
      "\u001b[1;31mTypeError\u001b[0m                                 Traceback (most recent call last)",
      "Cell \u001b[1;32mIn[152], line 1\u001b[0m\n\u001b[1;32m----> 1\u001b[0m rollbacktest\u001b[38;5;241m.\u001b[39mbacktest(start_date\u001b[38;5;241m=\u001b[39m\u001b[38;5;124m'\u001b[39m\u001b[38;5;124m2016-01-01\u001b[39m\u001b[38;5;124m'\u001b[39m, end_date\u001b[38;5;241m=\u001b[39m\u001b[38;5;124m'\u001b[39m\u001b[38;5;124m2023-01-01\u001b[39m\u001b[38;5;124m'\u001b[39m)\n",
      "Cell \u001b[1;32mIn[142], line 13\u001b[0m, in \u001b[0;36mRollbackTesting.backtest\u001b[1;34m(self, start_date, end_date, rebalance_period)\u001b[0m\n\u001b[0;32m     11\u001b[0m test_start \u001b[38;5;241m=\u001b[39m dates[i\u001b[38;5;241m+\u001b[39m\u001b[38;5;241m1\u001b[39m]\n\u001b[0;32m     12\u001b[0m tes_end \u001b[38;5;241m=\u001b[39m dates[ i \u001b[38;5;241m+\u001b[39m \u001b[38;5;241m2\u001b[39m] \u001b[38;5;28;01mif\u001b[39;00m i \u001b[38;5;241m+\u001b[39m \u001b[38;5;241m2\u001b[39m \u001b[38;5;241m<\u001b[39m \u001b[38;5;28mlen\u001b[39m(dates) \u001b[38;5;28;01melse\u001b[39;00m end_date\n\u001b[1;32m---> 13\u001b[0m train_data \u001b[38;5;241m=\u001b[39m\u001b[38;5;28mself\u001b[39m\u001b[38;5;241m.\u001b[39mreturns[:train_end][\u001b[38;5;241m-\u001b[39m\u001b[38;5;28mself\u001b[39m\u001b[38;5;241m.\u001b[39mlookback_period:]\n\u001b[0;32m     14\u001b[0m test_data \u001b[38;5;241m=\u001b[39m \u001b[38;5;28mself\u001b[39m\u001b[38;5;241m.\u001b[39mreturns[test_start:test_end]\n\u001b[0;32m     15\u001b[0m \u001b[38;5;28mprint\u001b[39m(train_end)\n",
      "File \u001b[1;32m~\\AppData\\Local\\anaconda3\\Lib\\site-packages\\pandas\\core\\frame.py:3779\u001b[0m, in \u001b[0;36mDataFrame.__getitem__\u001b[1;34m(self, key)\u001b[0m\n\u001b[0;32m   3777\u001b[0m         \u001b[38;5;28;01mreturn\u001b[39;00m \u001b[38;5;28mself\u001b[39m\u001b[38;5;241m.\u001b[39m_getitem_multilevel(key)\n\u001b[0;32m   3778\u001b[0m \u001b[38;5;66;03m# Do we have a slicer (on rows)?\u001b[39;00m\n\u001b[1;32m-> 3779\u001b[0m indexer \u001b[38;5;241m=\u001b[39m convert_to_index_sliceable(\u001b[38;5;28mself\u001b[39m, key)\n\u001b[0;32m   3780\u001b[0m \u001b[38;5;28;01mif\u001b[39;00m indexer \u001b[38;5;129;01mis\u001b[39;00m \u001b[38;5;129;01mnot\u001b[39;00m \u001b[38;5;28;01mNone\u001b[39;00m:\n\u001b[0;32m   3781\u001b[0m     \u001b[38;5;28;01mif\u001b[39;00m \u001b[38;5;28misinstance\u001b[39m(indexer, np\u001b[38;5;241m.\u001b[39mndarray):\n",
      "File \u001b[1;32m~\\AppData\\Local\\anaconda3\\Lib\\site-packages\\pandas\\core\\indexing.py:2494\u001b[0m, in \u001b[0;36mconvert_to_index_sliceable\u001b[1;34m(obj, key)\u001b[0m\n\u001b[0;32m   2492\u001b[0m idx \u001b[38;5;241m=\u001b[39m obj\u001b[38;5;241m.\u001b[39mindex\n\u001b[0;32m   2493\u001b[0m \u001b[38;5;28;01mif\u001b[39;00m \u001b[38;5;28misinstance\u001b[39m(key, \u001b[38;5;28mslice\u001b[39m):\n\u001b[1;32m-> 2494\u001b[0m     \u001b[38;5;28;01mreturn\u001b[39;00m idx\u001b[38;5;241m.\u001b[39m_convert_slice_indexer(key, kind\u001b[38;5;241m=\u001b[39m\u001b[38;5;124m\"\u001b[39m\u001b[38;5;124mgetitem\u001b[39m\u001b[38;5;124m\"\u001b[39m)\n\u001b[0;32m   2496\u001b[0m \u001b[38;5;28;01melif\u001b[39;00m \u001b[38;5;28misinstance\u001b[39m(key, \u001b[38;5;28mstr\u001b[39m):\n\u001b[0;32m   2497\u001b[0m \n\u001b[0;32m   2498\u001b[0m     \u001b[38;5;66;03m# we are an actual column\u001b[39;00m\n\u001b[0;32m   2499\u001b[0m     \u001b[38;5;28;01mif\u001b[39;00m key \u001b[38;5;129;01min\u001b[39;00m obj\u001b[38;5;241m.\u001b[39mcolumns:\n",
      "File \u001b[1;32m~\\AppData\\Local\\anaconda3\\Lib\\site-packages\\pandas\\core\\indexes\\base.py:4284\u001b[0m, in \u001b[0;36mIndex._convert_slice_indexer\u001b[1;34m(self, key, kind)\u001b[0m\n\u001b[0;32m   4282\u001b[0m     indexer \u001b[38;5;241m=\u001b[39m key\n\u001b[0;32m   4283\u001b[0m \u001b[38;5;28;01melse\u001b[39;00m:\n\u001b[1;32m-> 4284\u001b[0m     indexer \u001b[38;5;241m=\u001b[39m \u001b[38;5;28mself\u001b[39m\u001b[38;5;241m.\u001b[39mslice_indexer(start, stop, step)\n\u001b[0;32m   4286\u001b[0m \u001b[38;5;28;01mreturn\u001b[39;00m indexer\n",
      "File \u001b[1;32m~\\AppData\\Local\\anaconda3\\Lib\\site-packages\\pandas\\core\\indexes\\base.py:6559\u001b[0m, in \u001b[0;36mIndex.slice_indexer\u001b[1;34m(self, start, end, step, kind)\u001b[0m\n\u001b[0;32m   6516\u001b[0m \u001b[38;5;250m\u001b[39m\u001b[38;5;124;03m\"\"\"\u001b[39;00m\n\u001b[0;32m   6517\u001b[0m \u001b[38;5;124;03mCompute the slice indexer for input labels and step.\u001b[39;00m\n\u001b[0;32m   6518\u001b[0m \n\u001b[1;32m   (...)\u001b[0m\n\u001b[0;32m   6555\u001b[0m \u001b[38;5;124;03mslice(1, 3, None)\u001b[39;00m\n\u001b[0;32m   6556\u001b[0m \u001b[38;5;124;03m\"\"\"\u001b[39;00m\n\u001b[0;32m   6557\u001b[0m \u001b[38;5;28mself\u001b[39m\u001b[38;5;241m.\u001b[39m_deprecated_arg(kind, \u001b[38;5;124m\"\u001b[39m\u001b[38;5;124mkind\u001b[39m\u001b[38;5;124m\"\u001b[39m, \u001b[38;5;124m\"\u001b[39m\u001b[38;5;124mslice_indexer\u001b[39m\u001b[38;5;124m\"\u001b[39m)\n\u001b[1;32m-> 6559\u001b[0m start_slice, end_slice \u001b[38;5;241m=\u001b[39m \u001b[38;5;28mself\u001b[39m\u001b[38;5;241m.\u001b[39mslice_locs(start, end, step\u001b[38;5;241m=\u001b[39mstep)\n\u001b[0;32m   6561\u001b[0m \u001b[38;5;66;03m# return a slice\u001b[39;00m\n\u001b[0;32m   6562\u001b[0m \u001b[38;5;28;01mif\u001b[39;00m \u001b[38;5;129;01mnot\u001b[39;00m is_scalar(start_slice):\n",
      "File \u001b[1;32m~\\AppData\\Local\\anaconda3\\Lib\\site-packages\\pandas\\core\\indexes\\base.py:6773\u001b[0m, in \u001b[0;36mIndex.slice_locs\u001b[1;34m(self, start, end, step, kind)\u001b[0m\n\u001b[0;32m   6771\u001b[0m end_slice \u001b[38;5;241m=\u001b[39m \u001b[38;5;28;01mNone\u001b[39;00m\n\u001b[0;32m   6772\u001b[0m \u001b[38;5;28;01mif\u001b[39;00m end \u001b[38;5;129;01mis\u001b[39;00m \u001b[38;5;129;01mnot\u001b[39;00m \u001b[38;5;28;01mNone\u001b[39;00m:\n\u001b[1;32m-> 6773\u001b[0m     end_slice \u001b[38;5;241m=\u001b[39m \u001b[38;5;28mself\u001b[39m\u001b[38;5;241m.\u001b[39mget_slice_bound(end, \u001b[38;5;124m\"\u001b[39m\u001b[38;5;124mright\u001b[39m\u001b[38;5;124m\"\u001b[39m)\n\u001b[0;32m   6774\u001b[0m \u001b[38;5;28;01mif\u001b[39;00m end_slice \u001b[38;5;129;01mis\u001b[39;00m \u001b[38;5;28;01mNone\u001b[39;00m:\n\u001b[0;32m   6775\u001b[0m     end_slice \u001b[38;5;241m=\u001b[39m \u001b[38;5;28mlen\u001b[39m(\u001b[38;5;28mself\u001b[39m)\n",
      "File \u001b[1;32m~\\AppData\\Local\\anaconda3\\Lib\\site-packages\\pandas\\core\\indexes\\base.py:6683\u001b[0m, in \u001b[0;36mIndex.get_slice_bound\u001b[1;34m(self, label, side, kind)\u001b[0m\n\u001b[0;32m   6681\u001b[0m \u001b[38;5;28;01mexcept\u001b[39;00m \u001b[38;5;167;01mKeyError\u001b[39;00m \u001b[38;5;28;01mas\u001b[39;00m err:\n\u001b[0;32m   6682\u001b[0m     \u001b[38;5;28;01mtry\u001b[39;00m:\n\u001b[1;32m-> 6683\u001b[0m         \u001b[38;5;28;01mreturn\u001b[39;00m \u001b[38;5;28mself\u001b[39m\u001b[38;5;241m.\u001b[39m_searchsorted_monotonic(label, side)\n\u001b[0;32m   6684\u001b[0m     \u001b[38;5;28;01mexcept\u001b[39;00m \u001b[38;5;167;01mValueError\u001b[39;00m:\n\u001b[0;32m   6685\u001b[0m         \u001b[38;5;66;03m# raise the original KeyError\u001b[39;00m\n\u001b[0;32m   6686\u001b[0m         \u001b[38;5;28;01mraise\u001b[39;00m err\n",
      "File \u001b[1;32m~\\AppData\\Local\\anaconda3\\Lib\\site-packages\\pandas\\core\\indexes\\base.py:6629\u001b[0m, in \u001b[0;36mIndex._searchsorted_monotonic\u001b[1;34m(self, label, side)\u001b[0m\n\u001b[0;32m   6627\u001b[0m \u001b[38;5;28;01mdef\u001b[39;00m \u001b[38;5;21m_searchsorted_monotonic\u001b[39m(\u001b[38;5;28mself\u001b[39m, label, side: Literal[\u001b[38;5;124m\"\u001b[39m\u001b[38;5;124mleft\u001b[39m\u001b[38;5;124m\"\u001b[39m, \u001b[38;5;124m\"\u001b[39m\u001b[38;5;124mright\u001b[39m\u001b[38;5;124m\"\u001b[39m] \u001b[38;5;241m=\u001b[39m \u001b[38;5;124m\"\u001b[39m\u001b[38;5;124mleft\u001b[39m\u001b[38;5;124m\"\u001b[39m):\n\u001b[0;32m   6628\u001b[0m     \u001b[38;5;28;01mif\u001b[39;00m \u001b[38;5;28mself\u001b[39m\u001b[38;5;241m.\u001b[39mis_monotonic_increasing:\n\u001b[1;32m-> 6629\u001b[0m         \u001b[38;5;28;01mreturn\u001b[39;00m \u001b[38;5;28mself\u001b[39m\u001b[38;5;241m.\u001b[39msearchsorted(label, side\u001b[38;5;241m=\u001b[39mside)\n\u001b[0;32m   6630\u001b[0m     \u001b[38;5;28;01melif\u001b[39;00m \u001b[38;5;28mself\u001b[39m\u001b[38;5;241m.\u001b[39mis_monotonic_decreasing:\n\u001b[0;32m   6631\u001b[0m         \u001b[38;5;66;03m# np.searchsorted expects ascending sort order, have to reverse\u001b[39;00m\n\u001b[0;32m   6632\u001b[0m         \u001b[38;5;66;03m# everything for it to work (element ordering, search side and\u001b[39;00m\n\u001b[0;32m   6633\u001b[0m         \u001b[38;5;66;03m# resulting value).\u001b[39;00m\n\u001b[0;32m   6634\u001b[0m         pos \u001b[38;5;241m=\u001b[39m \u001b[38;5;28mself\u001b[39m[::\u001b[38;5;241m-\u001b[39m\u001b[38;5;241m1\u001b[39m]\u001b[38;5;241m.\u001b[39msearchsorted(\n\u001b[0;32m   6635\u001b[0m             label, side\u001b[38;5;241m=\u001b[39m\u001b[38;5;124m\"\u001b[39m\u001b[38;5;124mright\u001b[39m\u001b[38;5;124m\"\u001b[39m \u001b[38;5;28;01mif\u001b[39;00m side \u001b[38;5;241m==\u001b[39m \u001b[38;5;124m\"\u001b[39m\u001b[38;5;124mleft\u001b[39m\u001b[38;5;124m\"\u001b[39m \u001b[38;5;28;01melse\u001b[39;00m \u001b[38;5;124m\"\u001b[39m\u001b[38;5;124mleft\u001b[39m\u001b[38;5;124m\"\u001b[39m\n\u001b[0;32m   6636\u001b[0m         )\n",
      "File \u001b[1;32m~\\AppData\\Local\\anaconda3\\Lib\\site-packages\\pandas\\core\\base.py:1298\u001b[0m, in \u001b[0;36mIndexOpsMixin.searchsorted\u001b[1;34m(self, value, side, sorter)\u001b[0m\n\u001b[0;32m   1294\u001b[0m \u001b[38;5;28;01mif\u001b[39;00m \u001b[38;5;129;01mnot\u001b[39;00m \u001b[38;5;28misinstance\u001b[39m(values, np\u001b[38;5;241m.\u001b[39mndarray):\n\u001b[0;32m   1295\u001b[0m     \u001b[38;5;66;03m# Going through EA.searchsorted directly improves performance GH#38083\u001b[39;00m\n\u001b[0;32m   1296\u001b[0m     \u001b[38;5;28;01mreturn\u001b[39;00m values\u001b[38;5;241m.\u001b[39msearchsorted(value, side\u001b[38;5;241m=\u001b[39mside, sorter\u001b[38;5;241m=\u001b[39msorter)\n\u001b[1;32m-> 1298\u001b[0m \u001b[38;5;28;01mreturn\u001b[39;00m algorithms\u001b[38;5;241m.\u001b[39msearchsorted(\n\u001b[0;32m   1299\u001b[0m     values,\n\u001b[0;32m   1300\u001b[0m     value,\n\u001b[0;32m   1301\u001b[0m     side\u001b[38;5;241m=\u001b[39mside,\n\u001b[0;32m   1302\u001b[0m     sorter\u001b[38;5;241m=\u001b[39msorter,\n\u001b[0;32m   1303\u001b[0m )\n",
      "File \u001b[1;32m~\\AppData\\Local\\anaconda3\\Lib\\site-packages\\pandas\\core\\algorithms.py:1669\u001b[0m, in \u001b[0;36msearchsorted\u001b[1;34m(arr, value, side, sorter)\u001b[0m\n\u001b[0;32m   1665\u001b[0m     arr \u001b[38;5;241m=\u001b[39m ensure_wrapped_if_datetimelike(arr)\n\u001b[0;32m   1667\u001b[0m \u001b[38;5;66;03m# Argument 1 to \"searchsorted\" of \"ndarray\" has incompatible type\u001b[39;00m\n\u001b[0;32m   1668\u001b[0m \u001b[38;5;66;03m# \"Union[NumpyValueArrayLike, ExtensionArray]\"; expected \"NumpyValueArrayLike\"\u001b[39;00m\n\u001b[1;32m-> 1669\u001b[0m \u001b[38;5;28;01mreturn\u001b[39;00m arr\u001b[38;5;241m.\u001b[39msearchsorted(value, side\u001b[38;5;241m=\u001b[39mside, sorter\u001b[38;5;241m=\u001b[39msorter)\n",
      "\u001b[1;31mTypeError\u001b[0m: '<' not supported between instances of 'str' and 'Timestamp'"
     ]
    }
   ],
   "source": [
    "rollbacktest.backtest(start_date='2016-01-01', end_date='2023-01-01')"
   ]
  },
  {
   "cell_type": "code",
   "execution_count": 288,
   "id": "0e1889e6-7bb7-4b24-8fc5-9c140a5647e3",
   "metadata": {
    "tags": []
   },
   "outputs": [
    {
     "name": "stdout",
     "output_type": "stream",
     "text": [
      "5\n",
      "6\n",
      "7\n",
      "8\n"
     ]
    }
   ],
   "source": [
    "for i in range(5 , 9):      \n",
    "    print(i)"
   ]
  },
  {
   "cell_type": "code",
   "execution_count": null,
   "id": "2fdc00fe-6e3f-4c13-ab05-5380ced61f37",
   "metadata": {},
   "outputs": [],
   "source": []
  }
 ],
 "metadata": {
  "kernelspec": {
   "display_name": "Python 3 (ipykernel)",
   "language": "python",
   "name": "python3"
  },
  "language_info": {
   "codemirror_mode": {
    "name": "ipython",
    "version": 3
   },
   "file_extension": ".py",
   "mimetype": "text/x-python",
   "name": "python",
   "nbconvert_exporter": "python",
   "pygments_lexer": "ipython3",
   "version": "3.11.4"
  }
 },
 "nbformat": 4,
 "nbformat_minor": 5
}
